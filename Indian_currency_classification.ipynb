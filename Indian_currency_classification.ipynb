{
  "nbformat": 4,
  "nbformat_minor": 0,
  "metadata": {
    "colab": {
      "name": "Indian_currency_classification.ipynb",
      "provenance": []
    },
    "kernelspec": {
      "name": "python3",
      "display_name": "Python 3"
    }
  },
  "cells": [
    {
      "cell_type": "code",
      "metadata": {
        "id": "l4bkc_dNF_tA",
        "colab_type": "code",
        "colab": {
          "base_uri": "https://localhost:8080/",
          "height": 120
        },
        "outputId": "70c46d9c-5407-48be-fd15-37a2a07f85e5"
      },
      "source": [
        "from google.colab import drive\n",
        "drive.mount('/content/drive')"
      ],
      "execution_count": null,
      "outputs": [
        {
          "output_type": "stream",
          "text": [
            "Go to this URL in a browser: https://accounts.google.com/o/oauth2/auth?client_id=947318989803-6bn6qk8qdgf4n4g3pfee6491hc0brc4i.apps.googleusercontent.com&redirect_uri=urn%3aietf%3awg%3aoauth%3a2.0%3aoob&response_type=code&scope=email%20https%3a%2f%2fwww.googleapis.com%2fauth%2fdocs.test%20https%3a%2f%2fwww.googleapis.com%2fauth%2fdrive%20https%3a%2f%2fwww.googleapis.com%2fauth%2fdrive.photos.readonly%20https%3a%2f%2fwww.googleapis.com%2fauth%2fpeopleapi.readonly\n",
            "\n",
            "Enter your authorization code:\n",
            "··········\n",
            "Mounted at /content/drive\n"
          ],
          "name": "stdout"
        }
      ]
    },
    {
      "cell_type": "code",
      "metadata": {
        "id": "_ZZzPqZCLs7Z",
        "colab_type": "code",
        "colab": {}
      },
      "source": [
        "from tensorflow.keras.layers import Input, Lambda, Dense, Flatten\n",
        "from tensorflow.keras.models import Model\n",
        "from tensorflow.keras.preprocessing import image\n",
        "from tensorflow.keras.preprocessing.image import ImageDataGenerator,load_img\n",
        "from tensorflow.keras.models import Sequential\n",
        "from tensorflow.keras.layers import MaxPooling2D\n",
        "from tensorflow.keras.layers import Conv2D\n",
        "import tensorflow as tf\n",
        "\n",
        "import numpy as np\n",
        "from glob import glob"
      ],
      "execution_count": null,
      "outputs": []
    },
    {
      "cell_type": "code",
      "metadata": {
        "id": "T0Yi0SGKLxdr",
        "colab_type": "code",
        "colab": {}
      },
      "source": [
        "IMAGE_SIZE = [224, 224]"
      ],
      "execution_count": null,
      "outputs": []
    },
    {
      "cell_type": "code",
      "metadata": {
        "id": "f1hiiNx2ZX_K",
        "colab_type": "code",
        "colab": {}
      },
      "source": [
        "class_names = ['Ten','Hundred','Twenty','Two Hundred','Two Thousand','Fifty','Five Hundred']"
      ],
      "execution_count": null,
      "outputs": []
    },
    {
      "cell_type": "code",
      "metadata": {
        "id": "fpy3etmYL2-q",
        "colab_type": "code",
        "colab": {}
      },
      "source": [
        "Classifier=Sequential()\n",
        "\n",
        "Classifier.add(Conv2D(32,(3,3), input_shape=(224,224,3), activation='relu'))\n",
        "Classifier.add(MaxPooling2D(pool_size=(2,2)))\n",
        "\n",
        "Classifier.add(Conv2D(32,(3,3),activation='relu'))\n",
        "Classifier.add(MaxPooling2D(pool_size=(2,2)))\n",
        "\n",
        "Classifier.add(Flatten())\n",
        "\n",
        "Classifier.add(Dense(units = 128, activation = 'relu'))\n",
        "Classifier.add(Dense(units = 7, activation = 'softmax'))"
      ],
      "execution_count": null,
      "outputs": []
    },
    {
      "cell_type": "code",
      "metadata": {
        "id": "p3GnW5SgL5IJ",
        "colab_type": "code",
        "colab": {}
      },
      "source": [
        "# tell the model what cost and optimization method to use\n",
        "Classifier.compile(\n",
        "  loss='categorical_crossentropy',\n",
        "  optimizer='adam',\n",
        "  metrics=['accuracy']\n",
        ")"
      ],
      "execution_count": null,
      "outputs": []
    },
    {
      "cell_type": "code",
      "metadata": {
        "id": "m9zdltXgL7QI",
        "colab_type": "code",
        "colab": {}
      },
      "source": [
        "# Use the Image Data Generator to import the images from the dataset\n",
        "from tensorflow.keras.preprocessing.image import ImageDataGenerator\n",
        "\n",
        "train_datagen = ImageDataGenerator(rescale = 1./255,\n",
        "                                   height_shift_range=0.2,\n",
        "                                   featurewise_center=True,\n",
        "                                   rotation_range=0.4,\n",
        "                                   horizontal_flip = True)\n",
        "\n",
        "test_datagen = ImageDataGenerator(rescale = 1./255,)"
      ],
      "execution_count": null,
      "outputs": []
    },
    {
      "cell_type": "code",
      "metadata": {
        "id": "ue_Wi7loMDZ4",
        "colab_type": "code",
        "colab": {
          "base_uri": "https://localhost:8080/",
          "height": 33
        },
        "outputId": "500c451e-76fc-47e4-80d4-7dc3912e1c74"
      },
      "source": [
        "training_set = train_datagen.flow_from_directory('/content/drive/My Drive/indian_currency_new/training',\n",
        "                                                 target_size = (224, 224),\n",
        "                                                 batch_size = 32,\n",
        "                                                 class_mode = 'categorical')"
      ],
      "execution_count": null,
      "outputs": [
        {
          "output_type": "stream",
          "text": [
            "Found 577 images belonging to 7 classes.\n"
          ],
          "name": "stdout"
        }
      ]
    },
    {
      "cell_type": "code",
      "metadata": {
        "id": "D-_nPyKaMFd_",
        "colab_type": "code",
        "colab": {
          "base_uri": "https://localhost:8080/",
          "height": 33
        },
        "outputId": "343064a9-60f6-4ce7-9079-2df7cfe25534"
      },
      "source": [
        "test_set = test_datagen.flow_from_directory('/content/drive/My Drive/indian_currency_new/validation',\n",
        "                                            target_size = (224, 224),\n",
        "                                            batch_size = 32,\n",
        "                                            class_mode = 'categorical')"
      ],
      "execution_count": null,
      "outputs": [
        {
          "output_type": "stream",
          "text": [
            "Found 167 images belonging to 7 classes.\n"
          ],
          "name": "stdout"
        }
      ]
    },
    {
      "cell_type": "code",
      "metadata": {
        "id": "VY5QM4zeMHzX",
        "colab_type": "code",
        "colab": {
          "base_uri": "https://localhost:8080/",
          "height": 1000
        },
        "outputId": "5a5b18ce-ee54-45f3-a072-9e2f724cf750"
      },
      "source": [
        "r = Classifier.fit_generator(\n",
        "  training_set,\n",
        "  validation_data=test_set,\n",
        "  epochs=45,\n",
        "  steps_per_epoch=len(training_set),\n",
        "  validation_steps=len(test_set)\n",
        ")"
      ],
      "execution_count": null,
      "outputs": [
        {
          "output_type": "stream",
          "text": [
            "WARNING:tensorflow:From <ipython-input-10-a52b864ab8d2>:6: Model.fit_generator (from tensorflow.python.keras.engine.training) is deprecated and will be removed in a future version.\n",
            "Instructions for updating:\n",
            "Please use Model.fit, which supports generators.\n"
          ],
          "name": "stdout"
        },
        {
          "output_type": "stream",
          "text": [
            "/usr/local/lib/python3.6/dist-packages/keras_preprocessing/image/image_data_generator.py:720: UserWarning: This ImageDataGenerator specifies `featurewise_center`, but it hasn't been fit on any training data. Fit it first by calling `.fit(numpy_data)`.\n",
            "  warnings.warn('This ImageDataGenerator specifies '\n"
          ],
          "name": "stderr"
        },
        {
          "output_type": "stream",
          "text": [
            "Epoch 1/45\n",
            "19/19 [==============================] - 176s 9s/step - loss: 5.4559 - accuracy: 0.1473 - val_loss: 1.9395 - val_accuracy: 0.2275\n",
            "Epoch 2/45\n",
            "19/19 [==============================] - 48s 3s/step - loss: 1.8171 - accuracy: 0.2894 - val_loss: 1.5815 - val_accuracy: 0.3593\n",
            "Epoch 3/45\n",
            "19/19 [==============================] - 49s 3s/step - loss: 1.4003 - accuracy: 0.4697 - val_loss: 2.5259 - val_accuracy: 0.2156\n",
            "Epoch 4/45\n",
            "19/19 [==============================] - 49s 3s/step - loss: 1.7219 - accuracy: 0.4021 - val_loss: 1.2816 - val_accuracy: 0.5269\n",
            "Epoch 5/45\n",
            "19/19 [==============================] - 50s 3s/step - loss: 1.1041 - accuracy: 0.6083 - val_loss: 1.1089 - val_accuracy: 0.6347\n",
            "Epoch 6/45\n",
            "19/19 [==============================] - 49s 3s/step - loss: 0.8700 - accuracy: 0.7071 - val_loss: 0.7434 - val_accuracy: 0.7365\n",
            "Epoch 7/45\n",
            "19/19 [==============================] - 51s 3s/step - loss: 0.6969 - accuracy: 0.7366 - val_loss: 0.6337 - val_accuracy: 0.7485\n",
            "Epoch 8/45\n",
            "19/19 [==============================] - 53s 3s/step - loss: 0.6468 - accuracy: 0.7747 - val_loss: 0.5858 - val_accuracy: 0.7964\n",
            "Epoch 9/45\n",
            "19/19 [==============================] - 50s 3s/step - loss: 0.6124 - accuracy: 0.7955 - val_loss: 0.5954 - val_accuracy: 0.8084\n",
            "Epoch 10/45\n",
            "19/19 [==============================] - 52s 3s/step - loss: 0.5034 - accuracy: 0.8111 - val_loss: 0.6110 - val_accuracy: 0.7725\n",
            "Epoch 11/45\n",
            "19/19 [==============================] - 50s 3s/step - loss: 0.4448 - accuracy: 0.8492 - val_loss: 0.5871 - val_accuracy: 0.7964\n",
            "Epoch 12/45\n",
            "19/19 [==============================] - 51s 3s/step - loss: 0.5263 - accuracy: 0.8111 - val_loss: 0.8083 - val_accuracy: 0.7485\n",
            "Epoch 13/45\n",
            "19/19 [==============================] - 50s 3s/step - loss: 0.4775 - accuracy: 0.8250 - val_loss: 1.1949 - val_accuracy: 0.7425\n",
            "Epoch 14/45\n",
            "19/19 [==============================] - 51s 3s/step - loss: 0.5959 - accuracy: 0.7764 - val_loss: 0.5862 - val_accuracy: 0.7725\n",
            "Epoch 15/45\n",
            "19/19 [==============================] - 49s 3s/step - loss: 0.4452 - accuracy: 0.8458 - val_loss: 0.4442 - val_accuracy: 0.8383\n",
            "Epoch 16/45\n",
            "19/19 [==============================] - 49s 3s/step - loss: 0.3216 - accuracy: 0.8925 - val_loss: 0.4813 - val_accuracy: 0.8263\n",
            "Epoch 17/45\n",
            "19/19 [==============================] - 51s 3s/step - loss: 0.3040 - accuracy: 0.8995 - val_loss: 0.4566 - val_accuracy: 0.8982\n",
            "Epoch 18/45\n",
            "19/19 [==============================] - 50s 3s/step - loss: 0.2511 - accuracy: 0.9272 - val_loss: 0.5974 - val_accuracy: 0.8263\n",
            "Epoch 19/45\n",
            "19/19 [==============================] - 53s 3s/step - loss: 0.3636 - accuracy: 0.8960 - val_loss: 0.4588 - val_accuracy: 0.8862\n",
            "Epoch 20/45\n",
            "19/19 [==============================] - 50s 3s/step - loss: 0.2789 - accuracy: 0.9047 - val_loss: 0.6328 - val_accuracy: 0.8563\n",
            "Epoch 21/45\n",
            "19/19 [==============================] - 50s 3s/step - loss: 0.2083 - accuracy: 0.9289 - val_loss: 0.4426 - val_accuracy: 0.9102\n",
            "Epoch 22/45\n",
            "19/19 [==============================] - 50s 3s/step - loss: 0.1751 - accuracy: 0.9549 - val_loss: 0.5303 - val_accuracy: 0.8982\n",
            "Epoch 23/45\n",
            "19/19 [==============================] - 50s 3s/step - loss: 0.1789 - accuracy: 0.9445 - val_loss: 0.5288 - val_accuracy: 0.8982\n",
            "Epoch 24/45\n",
            "19/19 [==============================] - 50s 3s/step - loss: 0.1255 - accuracy: 0.9584 - val_loss: 0.4821 - val_accuracy: 0.9042\n",
            "Epoch 25/45\n",
            "19/19 [==============================] - 49s 3s/step - loss: 0.1038 - accuracy: 0.9705 - val_loss: 0.5226 - val_accuracy: 0.8922\n",
            "Epoch 26/45\n",
            "19/19 [==============================] - 49s 3s/step - loss: 0.0995 - accuracy: 0.9653 - val_loss: 0.5260 - val_accuracy: 0.8922\n",
            "Epoch 27/45\n",
            "19/19 [==============================] - 50s 3s/step - loss: 0.1046 - accuracy: 0.9653 - val_loss: 0.5305 - val_accuracy: 0.8862\n",
            "Epoch 28/45\n",
            "19/19 [==============================] - 51s 3s/step - loss: 0.0869 - accuracy: 0.9723 - val_loss: 0.5038 - val_accuracy: 0.8922\n",
            "Epoch 29/45\n",
            "19/19 [==============================] - 50s 3s/step - loss: 0.1333 - accuracy: 0.9601 - val_loss: 0.7209 - val_accuracy: 0.8263\n",
            "Epoch 30/45\n",
            "19/19 [==============================] - 55s 3s/step - loss: 0.1873 - accuracy: 0.9341 - val_loss: 0.4028 - val_accuracy: 0.8922\n",
            "Epoch 31/45\n",
            "19/19 [==============================] - 50s 3s/step - loss: 0.1183 - accuracy: 0.9671 - val_loss: 0.3285 - val_accuracy: 0.9222\n",
            "Epoch 32/45\n",
            "19/19 [==============================] - 50s 3s/step - loss: 0.1530 - accuracy: 0.9463 - val_loss: 0.4150 - val_accuracy: 0.9162\n",
            "Epoch 33/45\n",
            "19/19 [==============================] - 49s 3s/step - loss: 0.1590 - accuracy: 0.9463 - val_loss: 0.7428 - val_accuracy: 0.8383\n",
            "Epoch 34/45\n",
            "19/19 [==============================] - 50s 3s/step - loss: 0.2051 - accuracy: 0.9359 - val_loss: 0.5435 - val_accuracy: 0.8802\n",
            "Epoch 35/45\n",
            "19/19 [==============================] - 52s 3s/step - loss: 0.1262 - accuracy: 0.9601 - val_loss: 0.6523 - val_accuracy: 0.8503\n",
            "Epoch 36/45\n",
            "19/19 [==============================] - 51s 3s/step - loss: 0.3363 - accuracy: 0.8908 - val_loss: 0.4927 - val_accuracy: 0.8623\n",
            "Epoch 37/45\n",
            "19/19 [==============================] - 50s 3s/step - loss: 0.1706 - accuracy: 0.9428 - val_loss: 0.5269 - val_accuracy: 0.8982\n",
            "Epoch 38/45\n",
            "19/19 [==============================] - 50s 3s/step - loss: 0.1097 - accuracy: 0.9653 - val_loss: 0.6907 - val_accuracy: 0.8443\n",
            "Epoch 39/45\n",
            "19/19 [==============================] - 51s 3s/step - loss: 0.1630 - accuracy: 0.9567 - val_loss: 0.5300 - val_accuracy: 0.8802\n",
            "Epoch 40/45\n",
            "19/19 [==============================] - 51s 3s/step - loss: 0.1921 - accuracy: 0.9289 - val_loss: 0.4510 - val_accuracy: 0.9102\n",
            "Epoch 41/45\n",
            "19/19 [==============================] - 51s 3s/step - loss: 0.1189 - accuracy: 0.9688 - val_loss: 0.5319 - val_accuracy: 0.9102\n",
            "Epoch 42/45\n",
            "19/19 [==============================] - 55s 3s/step - loss: 0.0775 - accuracy: 0.9757 - val_loss: 0.5219 - val_accuracy: 0.8862\n",
            "Epoch 43/45\n",
            "19/19 [==============================] - 51s 3s/step - loss: 0.0488 - accuracy: 0.9844 - val_loss: 0.5813 - val_accuracy: 0.9162\n",
            "Epoch 44/45\n",
            "19/19 [==============================] - 50s 3s/step - loss: 0.0612 - accuracy: 0.9827 - val_loss: 0.4641 - val_accuracy: 0.9341\n",
            "Epoch 45/45\n",
            "19/19 [==============================] - 53s 3s/step - loss: 0.0732 - accuracy: 0.9775 - val_loss: 0.5129 - val_accuracy: 0.9042\n"
          ],
          "name": "stdout"
        }
      ]
    },
    {
      "cell_type": "code",
      "metadata": {
        "id": "eRLygbr1MaBI",
        "colab_type": "code",
        "colab": {
          "base_uri": "https://localhost:8080/",
          "height": 104
        },
        "outputId": "a0b8217d-d128-4ae6-ea1a-f19609ad7854"
      },
      "source": [
        "# save the model\n",
        "Classifier.save('my_model/1') "
      ],
      "execution_count": null,
      "outputs": [
        {
          "output_type": "stream",
          "text": [
            "WARNING:tensorflow:From /usr/local/lib/python3.6/dist-packages/tensorflow/python/ops/resource_variable_ops.py:1817: calling BaseResourceVariable.__init__ (from tensorflow.python.ops.resource_variable_ops) with constraint is deprecated and will be removed in a future version.\n",
            "Instructions for updating:\n",
            "If using Keras pass *_constraint arguments to layers.\n",
            "INFO:tensorflow:Assets written to: my_model/1/assets\n"
          ],
          "name": "stdout"
        }
      ]
    },
    {
      "cell_type": "code",
      "metadata": {
        "id": "2M97bkIFYOYY",
        "colab_type": "code",
        "colab": {}
      },
      "source": [
        "mine=image.load_img('/content/download (1).png',target_size=(224,224))\n",
        "test_image=image.img_to_array(mine)\n",
        "test_image=np.expand_dims(test_image, axis = 0)"
      ],
      "execution_count": null,
      "outputs": []
    },
    {
      "cell_type": "code",
      "metadata": {
        "id": "9GLcebfWNIBz",
        "colab_type": "code",
        "colab": {
          "base_uri": "https://localhost:8080/",
          "height": 369
        },
        "outputId": "2afc80ec-320b-40e5-8cd5-f91ea0bff38b"
      },
      "source": [
        "# import load_model\n",
        "from tensorflow.keras.models import load_model\n",
        "\n",
        "# give the path to model directory to load the model\n",
        "loaded_model = load_model('my_model/1/')\n",
        "\n",
        "# predict function to predict the probabilities for each class 0-9\n",
        "result = loaded_model.predict(test_image)\n",
        "\n",
        "# predict_classes to get the class with highest probability \n",
        "class_names[np.argmax(result)]"
      ],
      "execution_count": null,
      "outputs": [
        {
          "output_type": "error",
          "ename": "OSError",
          "evalue": "ignored",
          "traceback": [
            "\u001b[0;31m---------------------------------------------------------------------------\u001b[0m",
            "\u001b[0;31mOSError\u001b[0m                                   Traceback (most recent call last)",
            "\u001b[0;32m<ipython-input-1-6ebf3c3b1b9d>\u001b[0m in \u001b[0;36m<module>\u001b[0;34m()\u001b[0m\n\u001b[1;32m      3\u001b[0m \u001b[0;34m\u001b[0m\u001b[0m\n\u001b[1;32m      4\u001b[0m \u001b[0;31m# give the path to model directory to load the model\u001b[0m\u001b[0;34m\u001b[0m\u001b[0;34m\u001b[0m\u001b[0;34m\u001b[0m\u001b[0m\n\u001b[0;32m----> 5\u001b[0;31m \u001b[0mloaded_model\u001b[0m \u001b[0;34m=\u001b[0m \u001b[0mload_model\u001b[0m\u001b[0;34m(\u001b[0m\u001b[0;34m'my_model/1/'\u001b[0m\u001b[0;34m)\u001b[0m\u001b[0;34m\u001b[0m\u001b[0;34m\u001b[0m\u001b[0m\n\u001b[0m\u001b[1;32m      6\u001b[0m \u001b[0;34m\u001b[0m\u001b[0m\n\u001b[1;32m      7\u001b[0m \u001b[0;31m# predict function to predict the probabilities for each class 0-9\u001b[0m\u001b[0;34m\u001b[0m\u001b[0;34m\u001b[0m\u001b[0;34m\u001b[0m\u001b[0m\n",
            "\u001b[0;32m/usr/local/lib/python3.6/dist-packages/tensorflow/python/keras/saving/save.py\u001b[0m in \u001b[0;36mload_model\u001b[0;34m(filepath, custom_objects, compile, options)\u001b[0m\n\u001b[1;32m    184\u001b[0m     \u001b[0mfilepath\u001b[0m \u001b[0;34m=\u001b[0m \u001b[0mpath_to_string\u001b[0m\u001b[0;34m(\u001b[0m\u001b[0mfilepath\u001b[0m\u001b[0;34m)\u001b[0m\u001b[0;34m\u001b[0m\u001b[0;34m\u001b[0m\u001b[0m\n\u001b[1;32m    185\u001b[0m     \u001b[0;32mif\u001b[0m \u001b[0misinstance\u001b[0m\u001b[0;34m(\u001b[0m\u001b[0mfilepath\u001b[0m\u001b[0;34m,\u001b[0m \u001b[0msix\u001b[0m\u001b[0;34m.\u001b[0m\u001b[0mstring_types\u001b[0m\u001b[0;34m)\u001b[0m\u001b[0;34m:\u001b[0m\u001b[0;34m\u001b[0m\u001b[0;34m\u001b[0m\u001b[0m\n\u001b[0;32m--> 186\u001b[0;31m       \u001b[0mloader_impl\u001b[0m\u001b[0;34m.\u001b[0m\u001b[0mparse_saved_model\u001b[0m\u001b[0;34m(\u001b[0m\u001b[0mfilepath\u001b[0m\u001b[0;34m)\u001b[0m\u001b[0;34m\u001b[0m\u001b[0;34m\u001b[0m\u001b[0m\n\u001b[0m\u001b[1;32m    187\u001b[0m       \u001b[0;32mreturn\u001b[0m \u001b[0msaved_model_load\u001b[0m\u001b[0;34m.\u001b[0m\u001b[0mload\u001b[0m\u001b[0;34m(\u001b[0m\u001b[0mfilepath\u001b[0m\u001b[0;34m,\u001b[0m \u001b[0mcompile\u001b[0m\u001b[0;34m,\u001b[0m \u001b[0moptions\u001b[0m\u001b[0;34m)\u001b[0m\u001b[0;34m\u001b[0m\u001b[0;34m\u001b[0m\u001b[0m\n\u001b[1;32m    188\u001b[0m \u001b[0;34m\u001b[0m\u001b[0m\n",
            "\u001b[0;32m/usr/local/lib/python3.6/dist-packages/tensorflow/python/saved_model/loader_impl.py\u001b[0m in \u001b[0;36mparse_saved_model\u001b[0;34m(export_dir)\u001b[0m\n\u001b[1;32m    111\u001b[0m                   (export_dir,\n\u001b[1;32m    112\u001b[0m                    \u001b[0mconstants\u001b[0m\u001b[0;34m.\u001b[0m\u001b[0mSAVED_MODEL_FILENAME_PBTXT\u001b[0m\u001b[0;34m,\u001b[0m\u001b[0;34m\u001b[0m\u001b[0;34m\u001b[0m\u001b[0m\n\u001b[0;32m--> 113\u001b[0;31m                    constants.SAVED_MODEL_FILENAME_PB))\n\u001b[0m\u001b[1;32m    114\u001b[0m \u001b[0;34m\u001b[0m\u001b[0m\n\u001b[1;32m    115\u001b[0m \u001b[0;34m\u001b[0m\u001b[0m\n",
            "\u001b[0;31mOSError\u001b[0m: SavedModel file does not exist at: my_model/1//{saved_model.pbtxt|saved_model.pb}"
          ]
        }
      ]
    },
    {
      "cell_type": "code",
      "metadata": {
        "id": "IXfLPurkYXvy",
        "colab_type": "code",
        "colab": {
          "base_uri": "https://localhost:8080/",
          "height": 33
        },
        "outputId": "e1fe7a1a-0513-4530-c7b4-bdaf66f72511"
      },
      "source": [
        "result = Classifier.predict(test_image)\n",
        "result"
      ],
      "execution_count": null,
      "outputs": [
        {
          "output_type": "execute_result",
          "data": {
            "text/plain": [
              "array([[0., 0., 0., 0., 1., 0., 0.]], dtype=float32)"
            ]
          },
          "metadata": {
            "tags": []
          },
          "execution_count": 29
        }
      ]
    },
    {
      "cell_type": "code",
      "metadata": {
        "id": "gBVA7kvKjW1f",
        "colab_type": "code",
        "colab": {}
      },
      "source": [
        "Classifier.save('my_model.h5')\n"
      ],
      "execution_count": null,
      "outputs": []
    },
    {
      "cell_type": "code",
      "metadata": {
        "id": "gl53rV27YZ3p",
        "colab_type": "code",
        "colab": {
          "base_uri": "https://localhost:8080/",
          "height": 195
        },
        "outputId": "ec30a207-3803-4a9c-c2a0-81288efefc61"
      },
      "source": [
        "import pickle\n",
        "with open('indian.pkl', 'wb') as file:\n",
        "    pickle.dump(Classifier, file)"
      ],
      "execution_count": null,
      "outputs": [
        {
          "output_type": "error",
          "ename": "TypeError",
          "evalue": "ignored",
          "traceback": [
            "\u001b[0;31m---------------------------------------------------------------------------\u001b[0m",
            "\u001b[0;31mTypeError\u001b[0m                                 Traceback (most recent call last)",
            "\u001b[0;32m<ipython-input-28-bc44bb5c2f4a>\u001b[0m in \u001b[0;36m<module>\u001b[0;34m()\u001b[0m\n\u001b[1;32m      1\u001b[0m \u001b[0;32mimport\u001b[0m \u001b[0mpickle\u001b[0m\u001b[0;34m\u001b[0m\u001b[0;34m\u001b[0m\u001b[0m\n\u001b[1;32m      2\u001b[0m \u001b[0;32mwith\u001b[0m \u001b[0mopen\u001b[0m\u001b[0;34m(\u001b[0m\u001b[0;34m'indian.pkl'\u001b[0m\u001b[0;34m,\u001b[0m \u001b[0;34m'wb'\u001b[0m\u001b[0;34m)\u001b[0m \u001b[0;32mas\u001b[0m \u001b[0mfile\u001b[0m\u001b[0;34m:\u001b[0m\u001b[0;34m\u001b[0m\u001b[0;34m\u001b[0m\u001b[0m\n\u001b[0;32m----> 3\u001b[0;31m     \u001b[0mpickle\u001b[0m\u001b[0;34m.\u001b[0m\u001b[0mdump\u001b[0m\u001b[0;34m(\u001b[0m\u001b[0mClassifier\u001b[0m\u001b[0;34m,\u001b[0m \u001b[0mfile\u001b[0m\u001b[0;34m)\u001b[0m\u001b[0;34m\u001b[0m\u001b[0;34m\u001b[0m\u001b[0m\n\u001b[0m",
            "\u001b[0;31mTypeError\u001b[0m: can't pickle _thread.RLock objects"
          ]
        }
      ]
    }
  ]
}